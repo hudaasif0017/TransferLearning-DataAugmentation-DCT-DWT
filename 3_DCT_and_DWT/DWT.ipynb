{
  "nbformat": 4,
  "nbformat_minor": 0,
  "metadata": {
    "colab": {
      "name": "DWT.ipynb",
      "provenance": []
    },
    "kernelspec": {
      "name": "python3",
      "display_name": "Python 3"
    },
    "language_info": {
      "name": "python"
    }
  },
  "cells": [
    {
      "cell_type": "code",
      "metadata": {
        "id": "SyXVP1AfRRgP"
      },
      "source": [
        "import numpy as np\n",
        "import pandas as pd\n",
        "from PIL import Image\n",
        "import matplotlib.pyplot as plt\n",
        "import torch\n",
        "import torch.nn as nn\n",
        "import torch.nn.functional as F\n",
        "from torch.autograd import Variable\n",
        "from torchvision import transforms, datasets, models\n",
        "from torch.utils.data import DataLoader, Dataset\n",
        "import torch.optim as optim\n",
        "import os\n",
        "import glob\n",
        "import cv2\n",
        "import pywt\n",
        "import pywt.data\n",
        "from skimage.color import rgb2gray\n",
        "%matplotlib inline"
      ],
      "execution_count": 1,
      "outputs": []
    },
    {
      "cell_type": "code",
      "metadata": {
        "colab": {
          "base_uri": "https://localhost:8080/"
        },
        "id": "1aDLoMoBRbIy",
        "outputId": "76db0d95-4db9-40d3-823c-d7fd408763ea"
      },
      "source": [
        "from google.colab import drive\n",
        "drive.mount('/content/drive')"
      ],
      "execution_count": 2,
      "outputs": [
        {
          "output_type": "stream",
          "text": [
            "Mounted at /content/drive\n"
          ],
          "name": "stdout"
        }
      ]
    },
    {
      "cell_type": "code",
      "metadata": {
        "id": "Ul2IlQKSRec4"
      },
      "source": [
        "data_dir = \"/content/drive/My Drive/Oranges Dataset\"\n",
        "train_dir = '/content/drive/My Drive/Oranges Dataset/Train' # training_set contains training dataset\n",
        "test_dir =  '/content/drive/My Drive/Oranges Dataset/Test'  # contains test dataset"
      ],
      "execution_count": 3,
      "outputs": []
    },
    {
      "cell_type": "code",
      "metadata": {
        "id": "t6NYrVrwRtkc"
      },
      "source": [
        "classes = ['Keenu', 'Mosumi', 'Red blood', 'Shakri']\n",
        "image_size = 256\n",
        "batch_size = 32"
      ],
      "execution_count": 4,
      "outputs": []
    },
    {
      "cell_type": "code",
      "metadata": {
        "id": "jiTiq-gfR4KK"
      },
      "source": [
        "dwt_data_dir = '/content/drive/My Drive/DWT'\n",
        "dwt_train_dir = '/content/drive/My Drive/DWT/Train'\n",
        "dwt_test_dir = '/content/drive/My Drive/DWT/Test'"
      ],
      "execution_count": 5,
      "outputs": []
    },
    {
      "cell_type": "code",
      "metadata": {
        "colab": {
          "base_uri": "https://localhost:8080/",
          "height": 35
        },
        "id": "mYnNRXlOSEPi",
        "outputId": "6156ba83-d3b6-48bd-c8fb-e4897a4a6b24"
      },
      "source": [
        "debug = {\"state\": False, \"storage_limit\": 1}  # Debug controller (keep 'state' False to disable)\n",
        "\n",
        "class_list = [\"Mosumi\", \"Keenu\", \"Red blood\", \"Shakri\"]\n",
        "feature_list = ['Approximation', ' Horizontal detail', 'Vertical detail', 'Diagonal detail', 'Reconstructed']\n",
        "\n",
        "for cl in class_list:\n",
        "  counter = 0\n",
        "  extraction_dir = train_dir + \"/\" + cl + \"/\"  # Change to test_dir for next run\n",
        "  store_dir = dwt_train_dir + \"/\" + cl + \"/\"  # Change to dct_test_dir for next run\n",
        "\n",
        "  for filename in os.listdir(extraction_dir):\n",
        "\n",
        "    # DEBUG START\n",
        "\n",
        "    if debug[\"state\"] == True and counter == debug[\"storage_limit\"]:\n",
        "      break\n",
        "\n",
        "    # DEBUG END\n",
        "\n",
        "    image = rgb2gray(plt.imread(extraction_dir + filename))\n",
        "    coeffs2 = pywt.dwt2(image, 'bior1.3')\n",
        "    image_dwt = pywt.idwt2(coeffs2, 'bior1.3')\n",
        "\n",
        "    # Save reconstructed DWT image\n",
        "\n",
        "    plt.gray()\n",
        "    plt.figure()\n",
        "    fig = plt.imshow(image_dwt)\n",
        "    plt.axis('off')\n",
        "    plt.savefig(f\"{store_dir}/'{counter}.png\", bbox_inches='tight')\n",
        "    fig = plt.gcf()\n",
        "    fig.clf()  # Clear RAM\n",
        "    plt.close(fig)\n",
        "\n",
        "    # Save original grayscale image\n",
        "\n",
        "    plt.figure()\n",
        "    fig = plt.imshow(image)\n",
        "    plt.axis('off')\n",
        "    plt.savefig(f\"{store_dir}/'o_{counter}.png\", bbox_inches='tight')\n",
        "    fig = plt.gcf()\n",
        "    fig.clf()  # Clear RAM\n",
        "    plt.close(fig)\n",
        "\n",
        "    counter += 1"
      ],
      "execution_count": 6,
      "outputs": [
        {
          "output_type": "display_data",
          "data": {
            "text/plain": [
              "<Figure size 432x288 with 0 Axes>"
            ]
          },
          "metadata": {
            "tags": []
          }
        }
      ]
    },
    {
      "cell_type": "code",
      "metadata": {
        "colab": {
          "base_uri": "https://localhost:8080/",
          "height": 35
        },
        "id": "eWrgPsL0S60L",
        "outputId": "7e14e7fe-4766-48a1-d570-1f8d44891621"
      },
      "source": [
        "debug = {\"state\": False, \"storage_limit\": 1}  \n",
        "\n",
        "class_list = [\"Mosumi\", \"Keenu\", \"Red blood\", \"Shakri\"]\n",
        "feature_list = ['Approximation', ' Horizontal detail', 'Vertical detail', 'Diagonal detail', 'Reconstructed']\n",
        "\n",
        "for cl in class_list:\n",
        "  counter = 0\n",
        "  extraction_dir = test_dir + \"/\" + cl + \"/\" \n",
        "  store_dir = dwt_test_dir + \"/\" + cl + \"/\" \n",
        "\n",
        "  for filename in os.listdir(extraction_dir):\n",
        "\n",
        "    # DEBUG START\n",
        "\n",
        "    if debug[\"state\"] == True and counter == debug[\"storage_limit\"]:\n",
        "      break\n",
        "\n",
        "    # DEBUG END\n",
        "\n",
        "    image = rgb2gray(plt.imread(extraction_dir + filename))\n",
        "    coeffs2 = pywt.dwt2(image, 'bior1.3')\n",
        "    image_dwt = pywt.idwt2(coeffs2, 'bior1.3')\n",
        "\n",
        "    # Save reconstructed DWT image\n",
        "\n",
        "    plt.gray()\n",
        "    plt.figure()\n",
        "    fig = plt.imshow(image_dwt)\n",
        "    plt.axis('off')\n",
        "    plt.savefig(f\"{store_dir}/'{counter}.png\", bbox_inches='tight')\n",
        "    fig = plt.gcf()\n",
        "    fig.clf()  # Clear RAM\n",
        "    plt.close(fig)\n",
        "\n",
        "    # Save original grayscale image\n",
        "\n",
        "    plt.figure()\n",
        "    fig = plt.imshow(image)\n",
        "    plt.axis('off')\n",
        "    plt.savefig(f\"{store_dir}/'o_{counter}.png\", bbox_inches='tight')\n",
        "    fig = plt.gcf()\n",
        "    fig.clf()  # Clear RAM\n",
        "    plt.close(fig)\n",
        "\n",
        "    counter += 1"
      ],
      "execution_count": 7,
      "outputs": [
        {
          "output_type": "display_data",
          "data": {
            "text/plain": [
              "<Figure size 432x288 with 0 Axes>"
            ]
          },
          "metadata": {
            "tags": []
          }
        }
      ]
    }
  ]
}